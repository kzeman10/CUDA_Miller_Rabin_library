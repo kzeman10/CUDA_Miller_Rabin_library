{
 "cells": [
  {
   "cell_type": "code",
   "execution_count": 1,
   "metadata": {},
   "outputs": [],
   "source": [
    "import os\n",
    "import numpy as np\n",
    "import pandas as pd\n",
    "from matplotlib import pyplot as plt"
   ]
  },
  {
   "cell_type": "code",
   "execution_count": 2,
   "metadata": {},
   "outputs": [
    {
     "name": "stdout",
     "output_type": "stream",
     "text": [
      "generating primes for testing\n",
      "saving primes\n",
      "done\n"
     ]
    }
   ],
   "source": [
    "def sieve(n):\n",
    "    \"\"\"Implementation of the sieve of Eratosthenes utilizing NumPy arrays\"\"\"\n",
    "    # prepare array of primes with first two positions as False\n",
    "    primes = np.ones(n, dtype=np.bool_)\n",
    "    primes[:2] = False\n",
    "\n",
    "    # loop over primes and mark composite numbers\n",
    "    for p in range(2, int(n ** 0.5) + 1):\n",
    "        if primes[p]:\n",
    "            primes[p * p: n : p] = False\n",
    "\n",
    "    return primes.nonzero()[0]\n",
    "\n",
    "# if file ./data/primes_2**32.csv does not exist, generate it\n",
    "if not os.path.exists(\"./data/primes_2**32.csv\"):\n",
    "    print(\"generating primes for testing\")\n",
    "    test = sieve(2**32)\n",
    "\n",
    "    # save to csv file\n",
    "    print(\"saving primes\")\n",
    "    # create directory data if not exits\n",
    "    if not os.path.exists(\"./data/\"):\n",
    "        os.makedirs(\"./data/\")\n",
    "    np.savetxt(\"./data/primes_2**32.csv\", test, delimiter=\",\", fmt=\"%d\")\n",
    "    print(\"done\")\n",
    "else:\n",
    "    print(\"test file already exists\")"
   ]
  },
  {
   "cell_type": "code",
   "execution_count": 3,
   "metadata": {},
   "outputs": [
    {
     "name": "stdout",
     "output_type": "stream",
     "text": [
      "hardware information:\n",
      "CPU:\n",
      "Intel(R) Core(TM) i7-10700K CPU @ 3.80GHz\n",
      "GPU:\n",
      "NVIDIA Corporation GA102 [GeForce RTX 3090] (rev a1)\n",
      "NVIDIA Corporation GA102 High Definition Audio Controller (rev a1)\n"
     ]
    }
   ],
   "source": [
    "# print hardware information\n",
    "print(\"hardware information:\")\n",
    "print('CPU:')\n",
    "print(os.popen(\"lscpu | grep name\").read().split(\":\")[1].strip())\n",
    "print('GPU:')\n",
    "!lspci | grep -i 'NVIDIA' | awk -F': ' '{print $2}'"
   ]
  },
  {
   "cell_type": "code",
   "execution_count": 4,
   "metadata": {},
   "outputs": [
    {
     "name": "stdout",
     "output_type": "stream",
     "text": [
      "GMP version: 6.2.1\n",
      "loading test data...\n",
      "about to test 203280221 primes on a GPU\n",
      "warmup...\n",
      "warmup done\n",
      "Time taken: 3.830 seconds\n",
      "about to test 203280221 primes on a CPU\n",
      "Time taken: 434.258 seconds21 (99.9605%)\n"
     ]
    }
   ],
   "source": [
    "# run benchmark\n",
    "!g++ -lgmp -o benchmark.out benchmark.cpp -L./.. -lmiller_rabin -Wl,-rpath,./..\n",
    "!./benchmark.out\n",
    "!rm benchmark.out"
   ]
  },
  {
   "cell_type": "code",
   "execution_count": 5,
   "metadata": {},
   "outputs": [
    {
     "data": {
      "text/html": [
       "<div>\n",
       "<style scoped>\n",
       "    .dataframe tbody tr th:only-of-type {\n",
       "        vertical-align: middle;\n",
       "    }\n",
       "\n",
       "    .dataframe tbody tr th {\n",
       "        vertical-align: top;\n",
       "    }\n",
       "\n",
       "    .dataframe thead th {\n",
       "        text-align: right;\n",
       "    }\n",
       "</style>\n",
       "<table border=\"1\" class=\"dataframe\">\n",
       "  <thead>\n",
       "    <tr style=\"text-align: right;\">\n",
       "      <th></th>\n",
       "      <th>implementation</th>\n",
       "      <th>time</th>\n",
       "    </tr>\n",
       "  </thead>\n",
       "  <tbody>\n",
       "    <tr>\n",
       "      <th>0</th>\n",
       "      <td>GPU</td>\n",
       "      <td>3.83023</td>\n",
       "    </tr>\n",
       "    <tr>\n",
       "      <th>1</th>\n",
       "      <td>CPU</td>\n",
       "      <td>434.25800</td>\n",
       "    </tr>\n",
       "  </tbody>\n",
       "</table>\n",
       "</div>"
      ],
      "text/plain": [
       "  implementation       time\n",
       "0            GPU    3.83023\n",
       "1            CPU  434.25800"
      ]
     },
     "metadata": {},
     "output_type": "display_data"
    },
    {
     "data": {
      "image/png": "[encoded data removed]",
      "text/plain": [
       "<Figure size 640x480 with 1 Axes>"
      ]
     },
     "metadata": {},
     "output_type": "display_data"
    }
   ],
   "source": [
    "# load log and display bar chart\n",
    "df = pd.read_csv('./data/log.csv')\n",
    "display(df)\n",
    "\n",
    "df.sort_values(by='time', ascending=False, inplace=True)\n",
    "# Extract the data columns\n",
    "implementations = df['implementation']\n",
    "times = df['time']\n",
    "\n",
    "# Configure plot\n",
    "# plt.figure(figsize=(12, 8))\n",
    "# plt.yticks(range(0, 80, 5))\n",
    "plt.grid(axis='y', which='major', color='#CCCCCC', linestyle='--', linewidth=1, alpha=0.5)\n",
    "\n",
    "# Set the labels and title\n",
    "plt.xlabel('Implementation')\n",
    "plt.ylabel('Time (seconds)')\n",
    "plt.title('Time Comparison')\n",
    "\n",
    "\n",
    "\n",
    "# Add the data to the plot\n",
    "plt.bar(implementations, times)\n",
    "\n",
    "# fill cpu with red\n",
    "plt.bar(implementations[1], times[1], color='#CC000F')\n",
    "\n",
    "# export to svg\n",
    "plt.savefig('./data/results.svg', format='svg', dpi=1200)\n",
    "# # save to png\n",
    "# plt.savefig('results.png', format='png', dpi=600)\n",
    "\n",
    "plt.show()"
   ]
  }
 ],
 "metadata": {
  "kernelspec": {
   "display_name": "primes",
   "language": "python",
   "name": "python3"
  },
  "language_info": {
   "codemirror_mode": {
    "name": "ipython",
    "version": 3
   },
   "file_extension": ".py",
   "mimetype": "text/x-python",
   "name": "python",
   "nbconvert_exporter": "python",
   "pygments_lexer": "ipython3",
   "version": "3.10.12"
  },
  "orig_nbformat": 4
 },
 "nbformat": 4,
 "nbformat_minor": 2
}
