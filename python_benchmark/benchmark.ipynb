{
 "cells": [
  {
   "cell_type": "code",
   "execution_count": null,
   "metadata": {},
   "outputs": [],
   "source": [
    "import os\n",
    "import numpy as np\n",
    "import pandas as pd\n",
    "from matplotlib import pyplot as plt"
   ]
  },
  {
   "cell_type": "code",
   "execution_count": null,
   "metadata": {},
   "outputs": [],
   "source": [
    "def sieve(n):\n",
    "    \"\"\"Implementation of the sieve of Eratosthenes utilizing NumPy arrays\"\"\"\n",
    "    # prepare array of primes with first two positions as False\n",
    "    primes = np.ones(n, dtype=np.bool_)\n",
    "    primes[:2] = False\n",
    "\n",
    "    # loop over primes and mark composite numbers\n",
    "    for p in range(2, int(n ** 0.5) + 1):\n",
    "        if primes[p]:\n",
    "            primes[p * p: n : p] = False\n",
    "\n",
    "    return primes.nonzero()[0]\n",
    "\n",
    "# if file ./data/primes_2**32.csv does not exist, generate it\n",
    "if not os.path.exists(\"./data/primes_2**32.csv\"):\n",
    "    print(\"generating primes for testing\")\n",
    "    test = sieve(2**32)\n",
    "\n",
    "    # save to csv file\n",
    "    print(\"saving primes\")\n",
    "    # create directory data if not exits\n",
    "    if not os.path.exists(\"./data/\"):\n",
    "        os.makedirs(\"./data/\")\n",
    "    np.savetxt(\"./data/primes_2**32.csv\", test, delimiter=\",\", fmt=\"%d\")\n",
    "    print(\"done\")\n",
    "else:\n",
    "    print(\"test file already exists\")"
   ]
  },
  {
   "cell_type": "code",
   "execution_count": null,
   "metadata": {},
   "outputs": [],
   "source": [
    "# print hardware information\n",
    "print(\"hardware information:\")\n",
    "print('CPU:')\n",
    "print(os.popen(\"lscpu | grep name\").read().split(\":\")[1].strip())\n",
    "print('GPU:')\n",
    "!lspci | grep -i 'NVIDIA' | awk -F': ' '{print $2}'"
   ]
  },
  {
   "cell_type": "code",
   "execution_count": null,
   "metadata": {},
   "outputs": [],
   "source": [
    "# run benchmarks\n",
    "\n",
    "# CPU GMP benchmark\n",
    "!g++ -lgmp -o benchmark.out benchmark.cpp -L./.. -lmiller_rabin -Wl,-rpath,./..\n",
    "!./benchmark.out\n",
    "!rm benchmark.out\n",
    "\n",
    "# C/C++ CUDA benchmark\n",
    "!nvcc -O3 miller_rabin_cuda_32.cu\n",
    "!./a.out\n",
    "!rm a.out\n",
    "\n",
    "# Python Numba CUDA benchmark\n",
    "%run miller_rabin_cuda.py"
   ]
  },
  {
   "cell_type": "code",
   "execution_count": null,
   "metadata": {},
   "outputs": [],
   "source": [
    "# load log and display bar chart\n",
    "df = pd.read_csv('./data/log.csv')\n",
    "display(df)\n",
    "\n",
    "df.sort_values(by='time', ascending=False, inplace=True)\n",
    "# Extract the data columns\n",
    "implementations = df['implementation']\n",
    "times = df['time']\n",
    "\n",
    "# Configure plot\n",
    "plt.figure(figsize=(12, 8))\n",
    "plt.grid(axis='y', which='major', color='#CCCCCC', linestyle='--', linewidth=1, alpha=0.5)\n",
    "\n",
    "# Set the labels and title\n",
    "plt.xlabel('Implementation')\n",
    "plt.ylabel('Time (seconds)')\n",
    "plt.title('Time Comparison')\n",
    "\n",
    "\n",
    "# Add the data to the plot\n",
    "plt.bar(implementations, times)\n",
    "\n",
    "# fill cpu with red\n",
    "plt.bar(implementations[0], times[0], color='#CC000F')\n",
    "# fill python with green\n",
    "plt.bar(implementations[2], times[2], color='#00CC00')\n",
    "\n",
    "# # save to png\n",
    "plt.savefig('./data/results.png', format='png', dpi=600)\n",
    "\n",
    "plt.show()"
   ]
  }
 ],
 "metadata": {
  "kernelspec": {
   "display_name": "primes",
   "language": "python",
   "name": "python3"
  },
  "language_info": {
   "codemirror_mode": {
    "name": "ipython",
    "version": 3
   },
   "file_extension": ".py",
   "mimetype": "text/x-python",
   "name": "python",
   "nbconvert_exporter": "python",
   "pygments_lexer": "ipython3",
   "version": "3.11.3"
  },
  "orig_nbformat": 4
 },
 "nbformat": 4,
 "nbformat_minor": 2
}
